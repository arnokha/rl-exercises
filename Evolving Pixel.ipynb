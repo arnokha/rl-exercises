{
 "cells": [
  {
   "cell_type": "markdown",
   "id": "c2e251bd",
   "metadata": {},
   "source": [
    "## Pixel that changes from 0-1 based on pattern"
   ]
  },
  {
   "cell_type": "code",
   "execution_count": 22,
   "id": "2b2ea313",
   "metadata": {},
   "outputs": [],
   "source": [
    "from typing import List, Tuple"
   ]
  },
  {
   "cell_type": "code",
   "execution_count": 19,
   "id": "bb487696",
   "metadata": {},
   "outputs": [],
   "source": [
    "import numpy as np\n",
    "\n",
    "MIN_BASE_SWITCH = .10\n",
    "MAX_BASE_SWITCH = .30\n",
    "MIN_ADD_SWITCH = .05\n",
    "MAX_ADD_SWITCH = .10"
   ]
  },
  {
   "cell_type": "code",
   "execution_count": 24,
   "id": "f9589366",
   "metadata": {},
   "outputs": [],
   "source": [
    "def simulate_pixel_flip_stochastic(timesteps: int, rng: np.random.Generator = None\n",
    "                   ) -> Tuple[List[int], List[float]]:\n",
    "    \"\"\"\n",
    "    Simulate a single pixel flipping between 0 and 1.\n",
    "\n",
    "    Returns\n",
    "    -------\n",
    "    states : list[int]\n",
    "        State at each timestep (length = `timesteps`)\n",
    "    probs  : list[float]\n",
    "        Switching probability *used* on each timestep\n",
    "        (same length; values in 0–1)\n",
    "    \"\"\"\n",
    "    if rng is None:  # allows deterministic tests\n",
    "        rng = np.random.default_rng()\n",
    "\n",
    "    # initial state and baseline switch probability\n",
    "    state: int = rng.integers(0, 2)           # 0 or 1\n",
    "    switch_p: float = (\n",
    "        rng.uniform(MIN_BASE_SWITCH, MAX_BASE_SWITCH)\n",
    "    )\n",
    "    add_inc: float = (\n",
    "        rng.uniform(MIN_ADD_SWITCH, MAX_ADD_SWITCH)\n",
    "    )\n",
    "\n",
    "    states: List[int] = []\n",
    "    probs:  List[float] = []\n",
    "\n",
    "    for _ in range(timesteps):\n",
    "        # record current values *before* potential flip\n",
    "        states.append(state)\n",
    "        probs.append(switch_p)\n",
    "\n",
    "        # decide whether to flip\n",
    "        if rng.random() < switch_p:\n",
    "            # flip the pixel\n",
    "            state = 1 - state\n",
    "            # reset baseline switching probability\n",
    "            switch_p = (\n",
    "                rng.uniform(MIN_BASE_SWITCH, MAX_BASE_SWITCH)\n",
    "            )\n",
    "            # draw a fresh additive increment for this new dwell\n",
    "            add_inc = (\n",
    "                rng.uniform(MIN_ADD_SWITCH, MAX_ADD_SWITCH)\n",
    "            )\n",
    "        else:\n",
    "            # stayed in same state → increase hazard\n",
    "            switch_p = min(1.0, switch_p + add_inc)\n",
    "\n",
    "    return states, probs"
   ]
  },
  {
   "cell_type": "code",
   "execution_count": 24,
   "id": "eaf7187e",
   "metadata": {},
   "outputs": [],
   "source": [
    "def simulate_pixel_flip_deterministic(timesteps: int, rng: np.random.Generator = None\n",
    "                   ) -> Tuple[List[int], List[float]]:\n",
    "    \"\"\"\n",
    "    Simulate a single pixel flipping between 0 and 1.\n",
    "\n",
    "    Returns\n",
    "    -------\n",
    "    states : list[int]\n",
    "        State at each timestep (length = `timesteps`)\n",
    "    probs  : list[float]\n",
    "        Switching probability *used* on each timestep\n",
    "        (same length; values in 0–1)\n",
    "    \"\"\"\n",
    "    if rng is None:  # allows deterministic tests\n",
    "        rng = np.random.default_rng()\n",
    "\n",
    "    # initial state and baseline switch probability\n",
    "    state: int = rng.integers(0, 2)           # 0 or 1\n",
    "    switch_p: float = (MIN_BASE_SWITCH + MAX_BASE_SWITCH) / 2\n",
    "    add_inc: float = (MIN_ADD_SWITCH + MAX_ADD_SWITCH) / 2\n",
    "\n",
    "    states: List[int] = []\n",
    "    probs:  List[float] = []\n",
    "\n",
    "    for _ in range(timesteps):\n",
    "        # record current values *before* potential flip\n",
    "        states.append(state)\n",
    "        probs.append(switch_p)\n",
    "\n",
    "        # decide whether to flip\n",
    "        if rng.random() < switch_p:\n",
    "            # flip the pixel\n",
    "            state = 1 - state\n",
    "            # reset baseline switching probability\n",
    "            switch_p = (MIN_BASE_SWITCH + MAX_BASE_SWITCH) / 2\n",
    "            # draw a fresh additive increment for this new dwell\n",
    "            add_inc = (MIN_ADD_SWITCH + MAX_ADD_SWITCH) / 2\n",
    "        else:\n",
    "            # stayed in same state → increase hazard\n",
    "            switch_p = min(1.0, switch_p + add_inc)\n",
    "\n",
    "    return states, probs"
   ]
  },
  {
   "cell_type": "code",
   "execution_count": 25,
   "id": "749910fe",
   "metadata": {},
   "outputs": [
    {
     "name": "stdout",
     "output_type": "stream",
     "text": [
      "t=00  state=1  switch_p=0.20\n",
      "t=01  state=1  switch_p=0.26\n",
      "t=02  state=1  switch_p=0.31\n",
      "t=03  state=0  switch_p=0.13\n",
      "t=04  state=0  switch_p=0.21\n",
      "t=05  state=0  switch_p=0.29\n",
      "t=06  state=0  switch_p=0.36\n",
      "t=07  state=1  switch_p=0.28\n",
      "t=08  state=1  switch_p=0.33\n",
      "t=09  state=1  switch_p=0.39\n",
      "t=10  state=0  switch_p=0.17\n",
      "t=11  state=0  switch_p=0.23\n",
      "t=12  state=0  switch_p=0.28\n",
      "t=13  state=0  switch_p=0.34\n",
      "t=14  state=0  switch_p=0.40\n",
      "t=15  state=1  switch_p=0.26\n",
      "t=16  state=1  switch_p=0.34\n",
      "t=17  state=0  switch_p=0.13\n",
      "t=18  state=0  switch_p=0.20\n",
      "t=19  state=0  switch_p=0.27\n",
      "t=20  state=0  switch_p=0.33\n",
      "t=21  state=0  switch_p=0.40\n",
      "t=22  state=1  switch_p=0.25\n",
      "t=23  state=0  switch_p=0.18\n",
      "t=24  state=1  switch_p=0.14\n",
      "t=25  state=1  switch_p=0.22\n",
      "t=26  state=1  switch_p=0.30\n",
      "t=27  state=1  switch_p=0.38\n",
      "t=28  state=1  switch_p=0.46\n",
      "t=29  state=0  switch_p=0.19\n"
     ]
    }
   ],
   "source": [
    "s, p = simulate_pixel(30)\n",
    "for t, (st, pr) in enumerate(zip(s, p)):\n",
    "    print(f\"t={t:02d}  state={st}  switch_p={pr:.2f}\")"
   ]
  },
  {
   "cell_type": "markdown",
   "id": "6bf8161a",
   "metadata": {},
   "source": [
    "**note**: if input is 1px and output is 1px, must retain an internal representation of what happened\n",
    "- need either:\n",
    "  - exact memory\n",
    "  - noisy memory/recurrence \n",
    "  \n",
    "**alt**: feed in a sequence of input (last `n` timesteps)"
   ]
  },
  {
   "cell_type": "code",
   "execution_count": null,
   "id": "ce338310",
   "metadata": {},
   "outputs": [],
   "source": []
  },
  {
   "cell_type": "code",
   "execution_count": null,
   "id": "bad7eb95",
   "metadata": {},
   "outputs": [],
   "source": []
  },
  {
   "cell_type": "code",
   "execution_count": null,
   "id": "c8e909fa",
   "metadata": {},
   "outputs": [],
   "source": []
  },
  {
   "cell_type": "code",
   "execution_count": null,
   "id": "c5a420db",
   "metadata": {},
   "outputs": [],
   "source": []
  },
  {
   "cell_type": "code",
   "execution_count": null,
   "id": "ca24a8b4",
   "metadata": {},
   "outputs": [],
   "source": []
  },
  {
   "cell_type": "code",
   "execution_count": null,
   "id": "784b2497",
   "metadata": {},
   "outputs": [],
   "source": []
  },
  {
   "cell_type": "markdown",
   "id": "190626a1",
   "metadata": {},
   "source": [
    "## TODO\n",
    "- more complex patterns (e.g. if back and forth switch happens with `x` seconds, change some properties)\n",
    "- "
   ]
  },
  {
   "cell_type": "markdown",
   "id": "5165ba65",
   "metadata": {},
   "source": [
    "# Continuous (or near) changes\n",
    "- Switching codition\n",
    "    - dynamics are static\n",
    "    - dynamics are in flux\n",
    "- come up with an algo/architecture that stays up to date"
   ]
  },
  {
   "cell_type": "markdown",
   "id": "b6a27737",
   "metadata": {},
   "source": [
    "## Add small state space where you can take actions\n",
    "3 squares\n",
    "- moving costs 1\n",
    "- being on the left when pixel turns to 0 yields +10, and right/1 yields +10\n",
    "- being on the wrong side during change dings you -5\n",
    "\n",
    "### Scenario\n",
    "- pixel is always visible\n",
    "- pixel is only visible from middle square\n",
    "- pixel is never visible"
   ]
  },
  {
   "cell_type": "code",
   "execution_count": null,
   "id": "31391d03",
   "metadata": {},
   "outputs": [],
   "source": []
  },
  {
   "cell_type": "code",
   "execution_count": null,
   "id": "97ae00e3",
   "metadata": {},
   "outputs": [],
   "source": []
  },
  {
   "cell_type": "code",
   "execution_count": null,
   "id": "b936c711",
   "metadata": {},
   "outputs": [],
   "source": []
  },
  {
   "cell_type": "code",
   "execution_count": null,
   "id": "86138865",
   "metadata": {},
   "outputs": [],
   "source": []
  },
  {
   "cell_type": "markdown",
   "id": "c04d7e04",
   "metadata": {},
   "source": [
    "## two pixel\n",
    "- IID\n",
    "- joint distribution\n",
    "- extend to a string of pixels"
   ]
  },
  {
   "cell_type": "code",
   "execution_count": null,
   "id": "2cdaa66a",
   "metadata": {},
   "outputs": [],
   "source": []
  }
 ],
 "metadata": {
  "kernelspec": {
   "display_name": "Python 3 (ipykernel)",
   "language": "python",
   "name": "python3"
  },
  "language_info": {
   "codemirror_mode": {
    "name": "ipython",
    "version": 3
   },
   "file_extension": ".py",
   "mimetype": "text/x-python",
   "name": "python",
   "nbconvert_exporter": "python",
   "pygments_lexer": "ipython3",
   "version": "3.9.18"
  }
 },
 "nbformat": 4,
 "nbformat_minor": 5
}
