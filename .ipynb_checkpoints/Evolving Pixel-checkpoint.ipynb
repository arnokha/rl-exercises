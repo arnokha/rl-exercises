{
 "cells": [
  {
   "cell_type": "markdown",
   "id": "2e8192e1",
   "metadata": {},
   "source": [
    "## Pixel that changes from 0-1 based on pattern\n",
    "- simple pattern (for each second spent in one state, add 5-10% chance of change)\n",
    "  - When a change occurs, the baseline switching probability is set randomly between\n",
    "- more complex patterns (e.g. if back and forth switch happens with `x` seconds, change some properties)\n",
    "- "
   ]
  },
  {
   "cell_type": "code",
   "execution_count": 22,
   "id": "40e63dc3",
   "metadata": {},
   "outputs": [],
   "source": [
    "from typing import List, Tuple"
   ]
  },
  {
   "cell_type": "code",
   "execution_count": 19,
   "id": "9d692369",
   "metadata": {},
   "outputs": [],
   "source": [
    "import numpy as np\n",
    "\n",
    "MIN_BASE_SWITCH = .10\n",
    "MAX_BASE_SWITCH = .30\n",
    "MIN_ADD_SWITCH = .05\n",
    "MAX_ADD_SWITCH = .10"
   ]
  },
  {
   "cell_type": "code",
   "execution_count": 23,
   "id": "981f702c",
   "metadata": {},
   "outputs": [],
   "source": [
    "def simulate_pixel(timesteps: int, rng: np.random.Generator = None\n",
    "                   ) -> Tuple[List[int], List[float]]:\n",
    "    \"\"\"\n",
    "    Simulate a single pixel flipping between 0 and 1.\n",
    "\n",
    "    Returns\n",
    "    -------\n",
    "    states : list[int]\n",
    "        State at each timestep (length = `timesteps`)\n",
    "    probs  : list[float]\n",
    "        Switching probability *used* on each timestep\n",
    "        (same length; values in 0–1)\n",
    "    \"\"\"\n",
    "    if rng is None:  # allows deterministic tests\n",
    "        rng = np.random.default_rng()\n",
    "\n",
    "    # initial state and baseline switch probability\n",
    "    state: int = rng.integers(0, 2)           # 0 or 1\n",
    "    switch_p: float = (\n",
    "        rng.uniform(MIN_BASE_SWITCH, MAX_BASE_SWITCH)\n",
    "    )\n",
    "    add_inc: float = (\n",
    "        rng.uniform(MIN_ADD_SWITCH, MAX_ADD_SWITCH)\n",
    "    )\n",
    "\n",
    "    states: List[int] = []\n",
    "    probs:  List[float] = []\n",
    "\n",
    "    for _ in range(timesteps):\n",
    "        # record current values *before* potential flip\n",
    "        states.append(state)\n",
    "        probs.append(switch_p)\n",
    "\n",
    "        # decide whether to flip\n",
    "        if rng.random() < switch_p:\n",
    "            # flip the pixel\n",
    "            state = 1 - state\n",
    "            # reset baseline switching probability\n",
    "            switch_p = (\n",
    "                rng.uniform(MIN_BASE_SWITCH, MAX_BASE_SWITCH)\n",
    "            )\n",
    "            # draw a fresh additive increment for this new dwell\n",
    "            add_inc = (\n",
    "                rng.uniform(MIN_ADD_SWITCH, MAX_ADD_SWITCH)\n",
    "            )\n",
    "        else:\n",
    "            # stayed in same state → increase hazard\n",
    "            switch_p = min(1.0, switch_p + add_inc)\n",
    "\n",
    "    return states, probs"
   ]
  },
  {
   "cell_type": "code",
   "execution_count": null,
   "id": "1e330c45",
   "metadata": {},
   "outputs": [],
   "source": []
  },
  {
   "cell_type": "markdown",
   "id": "24edde0e",
   "metadata": {},
   "source": [
    "# Continuous (or near) changes\n",
    "- Switching codition\n",
    "    - dynamics are static\n",
    "    - dynamics are in flux\n",
    "- come up with an algo/architecture that stays up to date"
   ]
  },
  {
   "cell_type": "markdown",
   "id": "af598973",
   "metadata": {},
   "source": [
    "## Add small state space where you can take actions\n",
    "3 squares\n",
    "- moving costs 1\n",
    "- being on the left when pixel turns to 0 yields +10, and right/1 yields +10\n",
    "- being on the wrong side during change dings you -5\n",
    "\n",
    "### Scenario\n",
    "- pixel is always visible\n",
    "- pixel is only visible from middle square\n",
    "- pixel is never visible"
   ]
  },
  {
   "cell_type": "code",
   "execution_count": null,
   "id": "909d24a0",
   "metadata": {},
   "outputs": [],
   "source": []
  },
  {
   "cell_type": "code",
   "execution_count": null,
   "id": "3d09d03e",
   "metadata": {},
   "outputs": [],
   "source": []
  },
  {
   "cell_type": "code",
   "execution_count": null,
   "id": "19568477",
   "metadata": {},
   "outputs": [],
   "source": []
  },
  {
   "cell_type": "code",
   "execution_count": null,
   "id": "f5abf728",
   "metadata": {},
   "outputs": [],
   "source": []
  },
  {
   "cell_type": "markdown",
   "id": "3648c319",
   "metadata": {},
   "source": [
    "## two pixel\n",
    "- IID\n",
    "- joint distribution\n",
    "- extend to a string of pixels"
   ]
  },
  {
   "cell_type": "code",
   "execution_count": null,
   "id": "efa76fe7",
   "metadata": {},
   "outputs": [],
   "source": []
  }
 ],
 "metadata": {
  "kernelspec": {
   "display_name": "Python 3 (ipykernel)",
   "language": "python",
   "name": "python3"
  },
  "language_info": {
   "codemirror_mode": {
    "name": "ipython",
    "version": 3
   },
   "file_extension": ".py",
   "mimetype": "text/x-python",
   "name": "python",
   "nbconvert_exporter": "python",
   "pygments_lexer": "ipython3",
   "version": "3.9.18"
  }
 },
 "nbformat": 4,
 "nbformat_minor": 5
}
